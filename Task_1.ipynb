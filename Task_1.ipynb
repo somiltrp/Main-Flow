{
  "nbformat": 4,
  "nbformat_minor": 0,
  "metadata": {
    "colab": {
      "provenance": [],
      "authorship_tag": "ABX9TyPR2RKbm5fGM3skj0wI9uml",
      "include_colab_link": true
    },
    "kernelspec": {
      "name": "python3",
      "display_name": "Python 3"
    },
    "language_info": {
      "name": "python"
    }
  },
  "cells": [
    {
      "cell_type": "markdown",
      "metadata": {
        "id": "view-in-github",
        "colab_type": "text"
      },
      "source": [
        "<a href=\"https://colab.research.google.com/github/somiltrp/Main-Flow/blob/main/Task_1.ipynb\" target=\"_parent\"><img src=\"https://colab.research.google.com/assets/colab-badge.svg\" alt=\"Open In Colab\"/></a>"
      ]
    },
    {
      "cell_type": "markdown",
      "source": [
        "## **List**"
      ],
      "metadata": {
        "id": "xa_9NRHNruAQ"
      }
    },
    {
      "cell_type": "code",
      "execution_count": 2,
      "metadata": {
        "id": "EeJfneZru6qi",
        "colab": {
          "base_uri": "https://localhost:8080/"
        },
        "outputId": "454232d3-af57-48de-d814-300441c538bf"
      },
      "outputs": [
        {
          "output_type": "stream",
          "name": "stdout",
          "text": [
            "[2, 4, 6, 8, 10, 12]\n"
          ]
        }
      ],
      "source": [
        "list=[2,3,4,6,8,10]\n",
        "list.append(12)\n",
        "list.remove(3)\n",
        "print(list)"
      ]
    },
    {
      "cell_type": "markdown",
      "source": [
        "## **Dictionary**"
      ],
      "metadata": {
        "id": "PDI5y7bWsxvH"
      }
    },
    {
      "cell_type": "code",
      "source": [
        "Dict={'Name':'Somil','Age':'23','Gender':'Male'}\n",
        "Dict['Age']='24'\n",
        "del Dict['Gender']\n",
        "print(dict)\n"
      ],
      "metadata": {
        "colab": {
          "base_uri": "https://localhost:8080/"
        },
        "id": "HB55dvBDswQx",
        "outputId": "037e94b0-d55d-475a-be93-8081031aa233"
      },
      "execution_count": 6,
      "outputs": [
        {
          "output_type": "stream",
          "name": "stdout",
          "text": [
            "<class 'dict'>\n"
          ]
        }
      ]
    },
    {
      "cell_type": "markdown",
      "source": [
        "## **Set**"
      ],
      "metadata": {
        "id": "zfs9PFOAuMDF"
      }
    },
    {
      "cell_type": "code",
      "source": [
        "Set={1,2,3,4,5,6}\n",
        "Set.add(7)\n",
        "Set.remove(3)\n",
        "print(Set)"
      ],
      "metadata": {
        "colab": {
          "base_uri": "https://localhost:8080/"
        },
        "id": "SQHbTLVOtj5h",
        "outputId": "7e0fd4d6-ba38-4ba6-a670-ab24ae02ea28"
      },
      "execution_count": 7,
      "outputs": [
        {
          "output_type": "stream",
          "name": "stdout",
          "text": [
            "{1, 2, 4, 5, 6, 7}\n"
          ]
        }
      ]
    },
    {
      "cell_type": "code",
      "source": [],
      "metadata": {
        "id": "PjsQ9gRqukHT"
      },
      "execution_count": null,
      "outputs": []
    }
  ]
}